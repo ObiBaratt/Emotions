{
 "cells": [
  {
   "cell_type": "markdown",
   "source": [
    "# Imports"
   ],
   "metadata": {
    "collapsed": false,
    "pycharm": {
     "name": "#%% md\n"
    }
   }
  },
  {
   "cell_type": "code",
   "execution_count": 69,
   "outputs": [],
   "source": [
    "import pandas as pd\n",
    "\n",
    "import spacy\n",
    "from spacy.lang.en.stop_words import STOP_WORDS\n",
    "import en_core_web_sm\n",
    "\n",
    "from sklearn.feature_extraction.text import CountVectorizer,TfidfVectorizer\n",
    "from sklearn.metrics import accuracy_score\n",
    "from sklearn.model_selection import train_test_split\n",
    "from sklearn.base import TransformerMixin\n",
    "from sklearn.svm import LinearSVC\n",
    "from sklearn.pipeline import Pipeline"
   ],
   "metadata": {
    "collapsed": false,
    "pycharm": {
     "name": "#%%\n"
    }
   }
  },
  {
   "cell_type": "markdown",
   "source": [],
   "metadata": {
    "collapsed": false,
    "pycharm": {
     "name": "#%% md\n"
    }
   }
  },
  {
   "cell_type": "markdown",
   "source": [
    "### Setup Spacy NLP"
   ],
   "metadata": {
    "collapsed": false,
    "pycharm": {
     "name": "#%% md\n"
    }
   }
  },
  {
   "cell_type": "code",
   "execution_count": 70,
   "outputs": [],
   "source": [
    "nlp = en_core_web_sm.load()"
   ],
   "metadata": {
    "collapsed": false,
    "pycharm": {
     "name": "#%%\n"
    }
   }
  },
  {
   "cell_type": "markdown",
   "source": [
    "### Load Dataset(s)"
   ],
   "metadata": {
    "collapsed": false,
    "pycharm": {
     "name": "#%% md\n"
    }
   }
  },
  {
   "cell_type": "code",
   "execution_count": 71,
   "outputs": [],
   "source": [
    "df = pd.read_csv('data/train.csv')"
   ],
   "metadata": {
    "collapsed": false,
    "pycharm": {
     "name": "#%%\n"
    }
   }
  },
  {
   "cell_type": "markdown",
   "source": [
    "### Explore & Clean Data"
   ],
   "metadata": {
    "collapsed": false,
    "pycharm": {
     "name": "#%% md\n"
    }
   }
  },
  {
   "cell_type": "code",
   "execution_count": 72,
   "outputs": [
    {
     "data": {
      "text/plain": "    2401  Borderlands  1 im getting on borderlands and i will murder you all ,\n0   2401  Borderlands  1  I am coming to the borders and I will kill you...   \n1   2401  Borderlands  1  im getting on borderlands and i will kill you ...   \n2   2401  Borderlands  1  im coming on borderlands and i will murder you...   \n3   2401  Borderlands  1  im getting on borderlands 2 and i will murder ...   \n4   2401  Borderlands  1  im getting into borderlands and i can murder y...   \n5   2402  Borderlands  1  So I spent a few hours making something for fu...   \n6   2402  Borderlands  1  So I spent a couple of hours doing something f...   \n7   2402  Borderlands  1  So I spent a few hours doing something for fun...   \n8   2402  Borderlands  1  So I spent a few hours making something for fu...   \n9   2402  Borderlands  1  2010 So I spent a few hours making something f...   \n10  2402  Borderlands  1                                                was   \n11  2403  Borderlands  0  Rock-Hard La Varlope, RARE & POWERFUL, HANDSOM...   \n12  2403  Borderlands  0  Rock-Hard La Varlope, RARE & POWERFUL, HANDSOM...   \n13  2403  Borderlands  0  Rock-Hard La Varlope, RARE & POWERFUL, HANDSOM...   \n14  2403  Borderlands  0  Rock-Hard La Vita, RARE BUT POWERFUL, HANDSOME...   \n15  2403  Borderlands  0  Live Rock - Hard music La la Varlope, RARE & t...   \n16  2403  Borderlands  0  I-Hard like me, RARE LONDON DE, HANDSOME 2011,...   \n17  2404  Borderlands  1  that was the first borderlands session in a lo...   \n18  2404  Borderlands  1  this was the first Borderlands session in a lo...   \n19  2404  Borderlands  1  that was the first borderlands session in a lo...   \n20  2404  Borderlands  1  that was the first borderlands session in a lo...   \n21  2404  Borderlands  1  that I was the first real borderlands session ...   \n22  2404  Borderlands  1  that was the first borderlands session in a ho...   \n23  2405  Borderlands -1  the biggest dissappoinment in my life came out...   \n24  2405  Borderlands -1  The biggest disappointment of my life came a y...   ",
      "text/html": "<div>\n<style scoped>\n    .dataframe tbody tr th:only-of-type {\n        vertical-align: middle;\n    }\n\n    .dataframe tbody tr th {\n        vertical-align: top;\n    }\n\n    .dataframe thead th {\n        text-align: right;\n    }\n</style>\n<table border=\"1\" class=\"dataframe\">\n  <thead>\n    <tr style=\"text-align: right;\">\n      <th></th>\n      <th>2401</th>\n      <th>Borderlands</th>\n      <th>1</th>\n      <th>im getting on borderlands and i will murder you all ,</th>\n    </tr>\n  </thead>\n  <tbody>\n    <tr>\n      <th>0</th>\n      <td>2401</td>\n      <td>Borderlands</td>\n      <td>1</td>\n      <td>I am coming to the borders and I will kill you...</td>\n    </tr>\n    <tr>\n      <th>1</th>\n      <td>2401</td>\n      <td>Borderlands</td>\n      <td>1</td>\n      <td>im getting on borderlands and i will kill you ...</td>\n    </tr>\n    <tr>\n      <th>2</th>\n      <td>2401</td>\n      <td>Borderlands</td>\n      <td>1</td>\n      <td>im coming on borderlands and i will murder you...</td>\n    </tr>\n    <tr>\n      <th>3</th>\n      <td>2401</td>\n      <td>Borderlands</td>\n      <td>1</td>\n      <td>im getting on borderlands 2 and i will murder ...</td>\n    </tr>\n    <tr>\n      <th>4</th>\n      <td>2401</td>\n      <td>Borderlands</td>\n      <td>1</td>\n      <td>im getting into borderlands and i can murder y...</td>\n    </tr>\n    <tr>\n      <th>5</th>\n      <td>2402</td>\n      <td>Borderlands</td>\n      <td>1</td>\n      <td>So I spent a few hours making something for fu...</td>\n    </tr>\n    <tr>\n      <th>6</th>\n      <td>2402</td>\n      <td>Borderlands</td>\n      <td>1</td>\n      <td>So I spent a couple of hours doing something f...</td>\n    </tr>\n    <tr>\n      <th>7</th>\n      <td>2402</td>\n      <td>Borderlands</td>\n      <td>1</td>\n      <td>So I spent a few hours doing something for fun...</td>\n    </tr>\n    <tr>\n      <th>8</th>\n      <td>2402</td>\n      <td>Borderlands</td>\n      <td>1</td>\n      <td>So I spent a few hours making something for fu...</td>\n    </tr>\n    <tr>\n      <th>9</th>\n      <td>2402</td>\n      <td>Borderlands</td>\n      <td>1</td>\n      <td>2010 So I spent a few hours making something f...</td>\n    </tr>\n    <tr>\n      <th>10</th>\n      <td>2402</td>\n      <td>Borderlands</td>\n      <td>1</td>\n      <td>was</td>\n    </tr>\n    <tr>\n      <th>11</th>\n      <td>2403</td>\n      <td>Borderlands</td>\n      <td>0</td>\n      <td>Rock-Hard La Varlope, RARE &amp; POWERFUL, HANDSOM...</td>\n    </tr>\n    <tr>\n      <th>12</th>\n      <td>2403</td>\n      <td>Borderlands</td>\n      <td>0</td>\n      <td>Rock-Hard La Varlope, RARE &amp; POWERFUL, HANDSOM...</td>\n    </tr>\n    <tr>\n      <th>13</th>\n      <td>2403</td>\n      <td>Borderlands</td>\n      <td>0</td>\n      <td>Rock-Hard La Varlope, RARE &amp; POWERFUL, HANDSOM...</td>\n    </tr>\n    <tr>\n      <th>14</th>\n      <td>2403</td>\n      <td>Borderlands</td>\n      <td>0</td>\n      <td>Rock-Hard La Vita, RARE BUT POWERFUL, HANDSOME...</td>\n    </tr>\n    <tr>\n      <th>15</th>\n      <td>2403</td>\n      <td>Borderlands</td>\n      <td>0</td>\n      <td>Live Rock - Hard music La la Varlope, RARE &amp; t...</td>\n    </tr>\n    <tr>\n      <th>16</th>\n      <td>2403</td>\n      <td>Borderlands</td>\n      <td>0</td>\n      <td>I-Hard like me, RARE LONDON DE, HANDSOME 2011,...</td>\n    </tr>\n    <tr>\n      <th>17</th>\n      <td>2404</td>\n      <td>Borderlands</td>\n      <td>1</td>\n      <td>that was the first borderlands session in a lo...</td>\n    </tr>\n    <tr>\n      <th>18</th>\n      <td>2404</td>\n      <td>Borderlands</td>\n      <td>1</td>\n      <td>this was the first Borderlands session in a lo...</td>\n    </tr>\n    <tr>\n      <th>19</th>\n      <td>2404</td>\n      <td>Borderlands</td>\n      <td>1</td>\n      <td>that was the first borderlands session in a lo...</td>\n    </tr>\n    <tr>\n      <th>20</th>\n      <td>2404</td>\n      <td>Borderlands</td>\n      <td>1</td>\n      <td>that was the first borderlands session in a lo...</td>\n    </tr>\n    <tr>\n      <th>21</th>\n      <td>2404</td>\n      <td>Borderlands</td>\n      <td>1</td>\n      <td>that I was the first real borderlands session ...</td>\n    </tr>\n    <tr>\n      <th>22</th>\n      <td>2404</td>\n      <td>Borderlands</td>\n      <td>1</td>\n      <td>that was the first borderlands session in a ho...</td>\n    </tr>\n    <tr>\n      <th>23</th>\n      <td>2405</td>\n      <td>Borderlands</td>\n      <td>-1</td>\n      <td>the biggest dissappoinment in my life came out...</td>\n    </tr>\n    <tr>\n      <th>24</th>\n      <td>2405</td>\n      <td>Borderlands</td>\n      <td>-1</td>\n      <td>The biggest disappointment of my life came a y...</td>\n    </tr>\n  </tbody>\n</table>\n</div>"
     },
     "execution_count": 72,
     "metadata": {},
     "output_type": "execute_result"
    }
   ],
   "source": [
    "df.head(25)"
   ],
   "metadata": {
    "collapsed": false,
    "pycharm": {
     "name": "#%%\n"
    }
   }
  },
  {
   "cell_type": "code",
   "execution_count": 73,
   "outputs": [],
   "source": [
    "df.columns = ['id', 'entity', 'sentiment', 'review']"
   ],
   "metadata": {
    "collapsed": false,
    "pycharm": {
     "name": "#%%\n"
    }
   }
  },
  {
   "cell_type": "code",
   "execution_count": 74,
   "outputs": [],
   "source": [
    "train = df.drop(columns=['id', 'entity'])"
   ],
   "metadata": {
    "collapsed": false,
    "pycharm": {
     "name": "#%%\n"
    }
   }
  },
  {
   "cell_type": "code",
   "execution_count": 75,
   "outputs": [
    {
     "data": {
      "text/plain": "    sentiment                                             review\n0           1  I am coming to the borders and I will kill you...\n1           1  im getting on borderlands and i will kill you ...\n2           1  im coming on borderlands and i will murder you...\n3           1  im getting on borderlands 2 and i will murder ...\n4           1  im getting into borderlands and i can murder y...\n5           1  So I spent a few hours making something for fu...\n6           1  So I spent a couple of hours doing something f...\n7           1  So I spent a few hours doing something for fun...\n8           1  So I spent a few hours making something for fu...\n9           1  2010 So I spent a few hours making something f...\n10          1                                                was\n11          0  Rock-Hard La Varlope, RARE & POWERFUL, HANDSOM...\n12          0  Rock-Hard La Varlope, RARE & POWERFUL, HANDSOM...\n13          0  Rock-Hard La Varlope, RARE & POWERFUL, HANDSOM...\n14          0  Rock-Hard La Vita, RARE BUT POWERFUL, HANDSOME...\n15          0  Live Rock - Hard music La la Varlope, RARE & t...\n16          0  I-Hard like me, RARE LONDON DE, HANDSOME 2011,...\n17          1  that was the first borderlands session in a lo...\n18          1  this was the first Borderlands session in a lo...\n19          1  that was the first borderlands session in a lo...\n20          1  that was the first borderlands session in a lo...\n21          1  that I was the first real borderlands session ...\n22          1  that was the first borderlands session in a ho...\n23         -1  the biggest dissappoinment in my life came out...\n24         -1  The biggest disappointment of my life came a y...",
      "text/html": "<div>\n<style scoped>\n    .dataframe tbody tr th:only-of-type {\n        vertical-align: middle;\n    }\n\n    .dataframe tbody tr th {\n        vertical-align: top;\n    }\n\n    .dataframe thead th {\n        text-align: right;\n    }\n</style>\n<table border=\"1\" class=\"dataframe\">\n  <thead>\n    <tr style=\"text-align: right;\">\n      <th></th>\n      <th>sentiment</th>\n      <th>review</th>\n    </tr>\n  </thead>\n  <tbody>\n    <tr>\n      <th>0</th>\n      <td>1</td>\n      <td>I am coming to the borders and I will kill you...</td>\n    </tr>\n    <tr>\n      <th>1</th>\n      <td>1</td>\n      <td>im getting on borderlands and i will kill you ...</td>\n    </tr>\n    <tr>\n      <th>2</th>\n      <td>1</td>\n      <td>im coming on borderlands and i will murder you...</td>\n    </tr>\n    <tr>\n      <th>3</th>\n      <td>1</td>\n      <td>im getting on borderlands 2 and i will murder ...</td>\n    </tr>\n    <tr>\n      <th>4</th>\n      <td>1</td>\n      <td>im getting into borderlands and i can murder y...</td>\n    </tr>\n    <tr>\n      <th>5</th>\n      <td>1</td>\n      <td>So I spent a few hours making something for fu...</td>\n    </tr>\n    <tr>\n      <th>6</th>\n      <td>1</td>\n      <td>So I spent a couple of hours doing something f...</td>\n    </tr>\n    <tr>\n      <th>7</th>\n      <td>1</td>\n      <td>So I spent a few hours doing something for fun...</td>\n    </tr>\n    <tr>\n      <th>8</th>\n      <td>1</td>\n      <td>So I spent a few hours making something for fu...</td>\n    </tr>\n    <tr>\n      <th>9</th>\n      <td>1</td>\n      <td>2010 So I spent a few hours making something f...</td>\n    </tr>\n    <tr>\n      <th>10</th>\n      <td>1</td>\n      <td>was</td>\n    </tr>\n    <tr>\n      <th>11</th>\n      <td>0</td>\n      <td>Rock-Hard La Varlope, RARE &amp; POWERFUL, HANDSOM...</td>\n    </tr>\n    <tr>\n      <th>12</th>\n      <td>0</td>\n      <td>Rock-Hard La Varlope, RARE &amp; POWERFUL, HANDSOM...</td>\n    </tr>\n    <tr>\n      <th>13</th>\n      <td>0</td>\n      <td>Rock-Hard La Varlope, RARE &amp; POWERFUL, HANDSOM...</td>\n    </tr>\n    <tr>\n      <th>14</th>\n      <td>0</td>\n      <td>Rock-Hard La Vita, RARE BUT POWERFUL, HANDSOME...</td>\n    </tr>\n    <tr>\n      <th>15</th>\n      <td>0</td>\n      <td>Live Rock - Hard music La la Varlope, RARE &amp; t...</td>\n    </tr>\n    <tr>\n      <th>16</th>\n      <td>0</td>\n      <td>I-Hard like me, RARE LONDON DE, HANDSOME 2011,...</td>\n    </tr>\n    <tr>\n      <th>17</th>\n      <td>1</td>\n      <td>that was the first borderlands session in a lo...</td>\n    </tr>\n    <tr>\n      <th>18</th>\n      <td>1</td>\n      <td>this was the first Borderlands session in a lo...</td>\n    </tr>\n    <tr>\n      <th>19</th>\n      <td>1</td>\n      <td>that was the first borderlands session in a lo...</td>\n    </tr>\n    <tr>\n      <th>20</th>\n      <td>1</td>\n      <td>that was the first borderlands session in a lo...</td>\n    </tr>\n    <tr>\n      <th>21</th>\n      <td>1</td>\n      <td>that I was the first real borderlands session ...</td>\n    </tr>\n    <tr>\n      <th>22</th>\n      <td>1</td>\n      <td>that was the first borderlands session in a ho...</td>\n    </tr>\n    <tr>\n      <th>23</th>\n      <td>-1</td>\n      <td>the biggest dissappoinment in my life came out...</td>\n    </tr>\n    <tr>\n      <th>24</th>\n      <td>-1</td>\n      <td>The biggest disappointment of my life came a y...</td>\n    </tr>\n  </tbody>\n</table>\n</div>"
     },
     "execution_count": 75,
     "metadata": {},
     "output_type": "execute_result"
    }
   ],
   "source": [
    "train.head(25)"
   ],
   "metadata": {
    "collapsed": false,
    "pycharm": {
     "name": "#%%\n"
    }
   }
  },
  {
   "cell_type": "code",
   "execution_count": 76,
   "outputs": [
    {
     "data": {
      "text/plain": "sentiment\n 0    31308\n-1    22542\n 1    20831\ndtype: int64"
     },
     "execution_count": 76,
     "metadata": {},
     "output_type": "execute_result"
    }
   ],
   "source": [
    "train.value_counts('sentiment')"
   ],
   "metadata": {
    "collapsed": false,
    "pycharm": {
     "name": "#%%\n"
    }
   }
  },
  {
   "cell_type": "code",
   "execution_count": 77,
   "outputs": [],
   "source": [
    "train = train[train['sentiment'] != 0]"
   ],
   "metadata": {
    "collapsed": false,
    "pycharm": {
     "name": "#%%\n"
    }
   }
  },
  {
   "cell_type": "code",
   "execution_count": 78,
   "outputs": [
    {
     "data": {
      "text/plain": "sentiment\n-1    22542\n 1    20831\ndtype: int64"
     },
     "execution_count": 78,
     "metadata": {},
     "output_type": "execute_result"
    }
   ],
   "source": [
    "train.value_counts('sentiment')"
   ],
   "metadata": {
    "collapsed": false,
    "pycharm": {
     "name": "#%%\n"
    }
   }
  },
  {
   "cell_type": "code",
   "execution_count": 79,
   "outputs": [],
   "source": [
    "train['sentiment'].mask(train['sentiment'] == -1, 0, inplace=True)"
   ],
   "metadata": {
    "collapsed": false,
    "pycharm": {
     "name": "#%%\n"
    }
   }
  },
  {
   "cell_type": "code",
   "execution_count": 80,
   "outputs": [
    {
     "data": {
      "text/plain": "sentiment\n0    22542\n1    20831\ndtype: int64"
     },
     "execution_count": 80,
     "metadata": {},
     "output_type": "execute_result"
    }
   ],
   "source": [
    "train.value_counts('sentiment')"
   ],
   "metadata": {
    "collapsed": false,
    "pycharm": {
     "name": "#%%\n"
    }
   }
  },
  {
   "cell_type": "code",
   "execution_count": 81,
   "outputs": [
    {
     "data": {
      "text/plain": "sentiment      0\nreview       361\ndtype: int64"
     },
     "execution_count": 81,
     "metadata": {},
     "output_type": "execute_result"
    }
   ],
   "source": [
    "train.isna().sum()"
   ],
   "metadata": {
    "collapsed": false,
    "pycharm": {
     "name": "#%%\n"
    }
   }
  },
  {
   "cell_type": "code",
   "execution_count": 82,
   "outputs": [],
   "source": [
    "train.dropna(axis=0, inplace=True)"
   ],
   "metadata": {
    "collapsed": false,
    "pycharm": {
     "name": "#%%\n"
    }
   }
  },
  {
   "cell_type": "code",
   "execution_count": 83,
   "outputs": [
    {
     "data": {
      "text/plain": "['five',\n \"'s\",\n 'again',\n 'him',\n 'indeed',\n 'my',\n 'whence',\n 'here',\n 'will',\n 'he',\n 'done',\n 'than',\n 'put',\n 'elsewhere',\n '‘ve',\n 'do',\n 'beforehand',\n 'was',\n 'eleven',\n 'own',\n 'we',\n 'why',\n 'have',\n 'now',\n 'about',\n 'has',\n 'same',\n 'someone',\n 'nine',\n 'twenty',\n 'anything',\n 'from',\n '’m',\n 'this',\n 'least',\n 'only',\n 'their',\n 'one',\n 'enough',\n 'whither',\n 'all',\n 'already',\n 'fifty',\n 'both',\n 'how',\n \"n't\",\n 'n‘t',\n 'through',\n 'many',\n 'few',\n 'must',\n 'are',\n 'whereupon',\n 'nothing',\n 'make',\n 'name',\n 'mine',\n 'within',\n 'several',\n 'seeming',\n 'very',\n 'were',\n 'however',\n 'therein',\n 'thus',\n 'those',\n 'meanwhile',\n 'should',\n 'top',\n 'wherein',\n 'across',\n 'seem',\n 'itself',\n 'afterwards',\n 'his',\n 'much',\n 'regarding',\n 'did',\n 'sixty',\n 'our',\n 'together',\n 'none',\n 'beside',\n 'perhaps',\n 'no',\n 'made',\n 'in',\n 'by',\n 'quite',\n 'thru',\n 'it',\n 'n’t',\n \"'ll\",\n 'well',\n 'whose',\n 'hundred',\n 'eight',\n 'nobody',\n 'get',\n 'without',\n 'full',\n 'herself',\n 'us',\n 'please',\n 'while',\n 'say',\n 'various',\n 'and',\n 'for',\n 'her',\n 'doing',\n 'back',\n 'until',\n 'whether',\n 'whoever',\n 'can',\n 'two',\n 'who',\n 'ours',\n 'could',\n 'such',\n 'further',\n 'too',\n 'as',\n 'whom',\n 'might',\n '‘s',\n 'been',\n 'third',\n 'thence',\n 'mostly',\n 'upon',\n 'side',\n 'even',\n \"'ve\",\n 'keep',\n 'become',\n 'whenever',\n 'yourself',\n 'more',\n 'though',\n 'less',\n 'front',\n 'just',\n 'most',\n '‘d',\n 'due',\n '’d',\n 'moreover',\n 'show',\n \"'m\",\n 'call',\n 'throughout',\n 'noone',\n 'around',\n 'besides',\n 'seemed',\n 'once',\n 'nowhere',\n 'neither',\n 'next',\n 'everywhere',\n 'with',\n 'an',\n 'therefore',\n 'she',\n 'always',\n 'when',\n 'used',\n 'either',\n 'rather',\n 'whereas',\n 'between',\n 'hereby',\n 'onto',\n 'whatever',\n '’ve',\n 'that',\n 'after',\n 'not',\n 'other',\n 'first',\n 'became',\n 'off',\n 'nor',\n 'anyhow',\n 'before',\n 'be',\n 'go',\n '’re',\n 'against',\n 'then',\n 'amongst',\n 'often',\n 'up',\n 'three',\n 'behind',\n 'may',\n 'never',\n 'some',\n 'had',\n 'themselves',\n 'under',\n 'because',\n 'anyone',\n 'move',\n 'twelve',\n 'part',\n 'although',\n 'i',\n 'somehow',\n 'down',\n 'me',\n 'cannot',\n 'ourselves',\n 'almost',\n 'latter',\n 'forty',\n \"'re\",\n '’s',\n 'thereafter',\n 'if',\n '‘re',\n 'still',\n 'amount',\n 'anyway',\n 'hence',\n 'its',\n 'others',\n 'what',\n '‘ll',\n 'of',\n 'see',\n 'six',\n 'yet',\n 'towards',\n 'another',\n 'nevertheless',\n 'otherwise',\n '’ll',\n 'you',\n 'at',\n 'last',\n 'four',\n 'per',\n 'out',\n 'wherever',\n 'hereupon',\n 'former',\n 'hereafter',\n 'would',\n 'being',\n 'every',\n 'during',\n 'above',\n 'becomes',\n 'ten',\n 'them',\n 'thereby',\n 'or',\n 'so',\n 'ca',\n 'bottom',\n 'thereupon',\n 'your',\n 'any',\n 'on',\n 'along',\n 'everyone',\n 'sometimes',\n 'give',\n 'whole',\n 'each',\n 'formerly',\n 'empty',\n 'is',\n 'herein',\n 'else',\n 'serious',\n 'am',\n 'really',\n 'ever',\n 'below',\n 'which',\n 'whereafter',\n 'hers',\n 'among',\n 'seems',\n 'yours',\n 'anywhere',\n 'over',\n 'a',\n 'via',\n 'unless',\n 'myself',\n 'since',\n 'alone',\n 'but',\n 'take',\n 'these',\n 'to',\n 'namely',\n 'also',\n '‘m',\n 'beyond',\n 'latterly',\n 'using',\n 'there',\n 'whereby',\n 'except',\n 'does',\n 'toward',\n 'everything',\n 'they',\n 're',\n 'where',\n 'something',\n 'yourselves',\n 'into',\n \"'d\",\n 'himself',\n 'sometime',\n 'becoming',\n 'somewhere',\n 'fifteen',\n 'the']"
     },
     "execution_count": 83,
     "metadata": {},
     "output_type": "execute_result"
    }
   ],
   "source": [
    "stopwords = list(STOP_WORDS)\n",
    "stopwords"
   ],
   "metadata": {
    "collapsed": false,
    "pycharm": {
     "name": "#%%\n"
    }
   }
  },
  {
   "cell_type": "code",
   "execution_count": 84,
   "outputs": [],
   "source": [
    "def clean_text(s):\n",
    "    split_text = s.split()\n",
    "    cleaned_text = [word for word in split_text if word not in stopwords]\n",
    "    final_text = ' '.join(cleaned_text)\n",
    "    return final_text"
   ],
   "metadata": {
    "collapsed": false,
    "pycharm": {
     "name": "#%%\n"
    }
   }
  },
  {
   "cell_type": "code",
   "execution_count": 85,
   "outputs": [
    {
     "data": {
      "text/plain": "\"So I spent couple hours fun... If don't know I'm huge @ Borderlands fan Maya favorite characters, I decided wallpaper PC.. Her...\""
     },
     "execution_count": 85,
     "metadata": {},
     "output_type": "execute_result"
    }
   ],
   "source": [
    "text = \"So I spent a couple of hours doing something for fun... If you don't know that I'm a huge @ Borderlands fan and Maya is one of my favorite characters, I decided to make a wallpaper for my PC.. Her...\"\n",
    "\n",
    "clean_text(text)"
   ],
   "metadata": {
    "collapsed": false,
    "pycharm": {
     "name": "#%%\n"
    }
   }
  },
  {
   "cell_type": "code",
   "execution_count": 86,
   "outputs": [],
   "source": [
    "train['review'] = train['review'].apply(clean_text)"
   ],
   "metadata": {
    "collapsed": false,
    "pycharm": {
     "name": "#%%\n"
    }
   }
  },
  {
   "cell_type": "code",
   "execution_count": 87,
   "outputs": [
    {
     "data": {
      "text/plain": "    sentiment                                             review\n0           1                       I coming borders I kill all,\n1           1                   im getting borderlands kill all,\n2           1                  im coming borderlands murder all,\n3           1               im getting borderlands 2 murder all,\n4           1                 im getting borderlands murder all,\n5           1  So I spent hours making fun. . . If don't know...\n6           1  So I spent couple hours fun... If don't know I...\n7           1  So I spent hours fun... If don't know I'm HUGE...\n8           1  So I spent hours making fun. . . If don't know...\n9           1  2010 So I spent hours making fun. . . If don't...\n10          1                                                   \n17          1  borderlands session long time actually satisfy...\n18          1  Borderlands session long time actually satisfy...\n19          1  borderlands session long time actually satisfy...\n20          1  borderlands session long time actually enjoyed...\n21          1  I real borderlands session nice long wait time...\n22          1  borderlands session hot row actually bad comba...\n23          0  biggest dissappoinment life came year ago fuck...\n24          0     The biggest disappointment life came year ago.\n25          0     The biggest disappointment life came year ago.\n26          0  biggest dissappoinment life coming year ago fu...\n27          0  For biggest male dissappoinment life came hang...\n28          0  biggest dissappoinment life came year ago fuck...\n29          1  WE FINISHED BORDERLANDS 3 FINALLY YAS! Thank h...\n30          1  WE FINALLY FINALLY FIND BORDERLANDS 3 YES! Tha...",
      "text/html": "<div>\n<style scoped>\n    .dataframe tbody tr th:only-of-type {\n        vertical-align: middle;\n    }\n\n    .dataframe tbody tr th {\n        vertical-align: top;\n    }\n\n    .dataframe thead th {\n        text-align: right;\n    }\n</style>\n<table border=\"1\" class=\"dataframe\">\n  <thead>\n    <tr style=\"text-align: right;\">\n      <th></th>\n      <th>sentiment</th>\n      <th>review</th>\n    </tr>\n  </thead>\n  <tbody>\n    <tr>\n      <th>0</th>\n      <td>1</td>\n      <td>I coming borders I kill all,</td>\n    </tr>\n    <tr>\n      <th>1</th>\n      <td>1</td>\n      <td>im getting borderlands kill all,</td>\n    </tr>\n    <tr>\n      <th>2</th>\n      <td>1</td>\n      <td>im coming borderlands murder all,</td>\n    </tr>\n    <tr>\n      <th>3</th>\n      <td>1</td>\n      <td>im getting borderlands 2 murder all,</td>\n    </tr>\n    <tr>\n      <th>4</th>\n      <td>1</td>\n      <td>im getting borderlands murder all,</td>\n    </tr>\n    <tr>\n      <th>5</th>\n      <td>1</td>\n      <td>So I spent hours making fun. . . If don't know...</td>\n    </tr>\n    <tr>\n      <th>6</th>\n      <td>1</td>\n      <td>So I spent couple hours fun... If don't know I...</td>\n    </tr>\n    <tr>\n      <th>7</th>\n      <td>1</td>\n      <td>So I spent hours fun... If don't know I'm HUGE...</td>\n    </tr>\n    <tr>\n      <th>8</th>\n      <td>1</td>\n      <td>So I spent hours making fun. . . If don't know...</td>\n    </tr>\n    <tr>\n      <th>9</th>\n      <td>1</td>\n      <td>2010 So I spent hours making fun. . . If don't...</td>\n    </tr>\n    <tr>\n      <th>10</th>\n      <td>1</td>\n      <td></td>\n    </tr>\n    <tr>\n      <th>17</th>\n      <td>1</td>\n      <td>borderlands session long time actually satisfy...</td>\n    </tr>\n    <tr>\n      <th>18</th>\n      <td>1</td>\n      <td>Borderlands session long time actually satisfy...</td>\n    </tr>\n    <tr>\n      <th>19</th>\n      <td>1</td>\n      <td>borderlands session long time actually satisfy...</td>\n    </tr>\n    <tr>\n      <th>20</th>\n      <td>1</td>\n      <td>borderlands session long time actually enjoyed...</td>\n    </tr>\n    <tr>\n      <th>21</th>\n      <td>1</td>\n      <td>I real borderlands session nice long wait time...</td>\n    </tr>\n    <tr>\n      <th>22</th>\n      <td>1</td>\n      <td>borderlands session hot row actually bad comba...</td>\n    </tr>\n    <tr>\n      <th>23</th>\n      <td>0</td>\n      <td>biggest dissappoinment life came year ago fuck...</td>\n    </tr>\n    <tr>\n      <th>24</th>\n      <td>0</td>\n      <td>The biggest disappointment life came year ago.</td>\n    </tr>\n    <tr>\n      <th>25</th>\n      <td>0</td>\n      <td>The biggest disappointment life came year ago.</td>\n    </tr>\n    <tr>\n      <th>26</th>\n      <td>0</td>\n      <td>biggest dissappoinment life coming year ago fu...</td>\n    </tr>\n    <tr>\n      <th>27</th>\n      <td>0</td>\n      <td>For biggest male dissappoinment life came hang...</td>\n    </tr>\n    <tr>\n      <th>28</th>\n      <td>0</td>\n      <td>biggest dissappoinment life came year ago fuck...</td>\n    </tr>\n    <tr>\n      <th>29</th>\n      <td>1</td>\n      <td>WE FINISHED BORDERLANDS 3 FINALLY YAS! Thank h...</td>\n    </tr>\n    <tr>\n      <th>30</th>\n      <td>1</td>\n      <td>WE FINALLY FINALLY FIND BORDERLANDS 3 YES! Tha...</td>\n    </tr>\n  </tbody>\n</table>\n</div>"
     },
     "execution_count": 87,
     "metadata": {},
     "output_type": "execute_result"
    }
   ],
   "source": [
    "train.head(25)"
   ],
   "metadata": {
    "collapsed": false,
    "pycharm": {
     "name": "#%%\n"
    }
   }
  },
  {
   "cell_type": "markdown",
   "source": [
    "### Setup sklearn imports"
   ],
   "metadata": {
    "collapsed": false,
    "pycharm": {
     "name": "#%% md\n"
    }
   }
  },
  {
   "cell_type": "code",
   "execution_count": 87,
   "outputs": [],
   "source": [],
   "metadata": {
    "collapsed": false,
    "pycharm": {
     "name": "#%%\n"
    }
   }
  },
  {
   "cell_type": "markdown",
   "source": [
    "### Create Pipe"
   ],
   "metadata": {
    "collapsed": false,
    "pycharm": {
     "name": "#%% md\n"
    }
   }
  },
  {
   "cell_type": "code",
   "execution_count": 87,
   "outputs": [],
   "source": [],
   "metadata": {
    "collapsed": false,
    "pycharm": {
     "name": "#%%\n"
    }
   }
  },
  {
   "cell_type": "markdown",
   "source": [
    "# Check Model"
   ],
   "metadata": {
    "collapsed": false,
    "pycharm": {
     "name": "#%% md\n"
    }
   }
  },
  {
   "cell_type": "markdown",
   "source": [
    "### Accuracy"
   ],
   "metadata": {
    "collapsed": false,
    "pycharm": {
     "name": "#%% md\n"
    }
   }
  },
  {
   "cell_type": "code",
   "execution_count": 87,
   "outputs": [],
   "source": [],
   "metadata": {
    "collapsed": false,
    "pycharm": {
     "name": "#%%\n"
    }
   }
  },
  {
   "cell_type": "markdown",
   "source": [
    "### Run tests on examples"
   ],
   "metadata": {
    "collapsed": false,
    "pycharm": {
     "name": "#%% md\n"
    }
   }
  },
  {
   "cell_type": "code",
   "execution_count": 87,
   "outputs": [],
   "source": [],
   "metadata": {
    "collapsed": false,
    "pycharm": {
     "name": "#%%\n"
    }
   }
  }
 ],
 "metadata": {
  "kernelspec": {
   "display_name": "Python 3",
   "language": "python",
   "name": "python3"
  },
  "language_info": {
   "codemirror_mode": {
    "name": "ipython",
    "version": 2
   },
   "file_extension": ".py",
   "mimetype": "text/x-python",
   "name": "python",
   "nbconvert_exporter": "python",
   "pygments_lexer": "ipython2",
   "version": "2.7.6"
  }
 },
 "nbformat": 4,
 "nbformat_minor": 0
}