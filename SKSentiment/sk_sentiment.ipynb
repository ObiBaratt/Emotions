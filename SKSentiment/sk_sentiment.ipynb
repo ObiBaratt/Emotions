{
 "cells": [
  {
   "cell_type": "markdown",
   "source": [
    "# Imports"
   ],
   "metadata": {
    "collapsed": false,
    "pycharm": {
     "name": "#%% md\n"
    }
   }
  },
  {
   "cell_type": "code",
   "execution_count": 58,
   "outputs": [],
   "source": [
    "import pandas as pd\n",
    "pd.options.mode.chained_assignment = None\n",
    "\n",
    "import spacy\n",
    "from spacy.lang.en.stop_words import STOP_WORDS\n",
    "import en_core_web_sm\n",
    "\n",
    "from sklearn.feature_extraction.text import TfidfVectorizer\n",
    "from sklearn.naive_bayes import MultinomialNB\n",
    "from sklearn.linear_model import SGDClassifier\n",
    "from sklearn.metrics import accuracy_score\n",
    "from sklearn.base import TransformerMixin\n",
    "from sklearn.svm import LinearSVC\n",
    "from sklearn.pipeline import Pipeline"
   ],
   "metadata": {
    "collapsed": false,
    "pycharm": {
     "name": "#%%\n"
    }
   }
  },
  {
   "cell_type": "markdown",
   "source": [],
   "metadata": {
    "collapsed": false,
    "pycharm": {
     "name": "#%% md\n"
    }
   }
  },
  {
   "cell_type": "markdown",
   "source": [
    "### Setup Spacy NLP"
   ],
   "metadata": {
    "collapsed": false,
    "pycharm": {
     "name": "#%% md\n"
    }
   }
  },
  {
   "cell_type": "code",
   "execution_count": 59,
   "outputs": [],
   "source": [
    "nlp = en_core_web_sm.load()\n",
    "spacy_tokenizer = nlp.tokenizer"
   ],
   "metadata": {
    "collapsed": false,
    "pycharm": {
     "name": "#%%\n"
    }
   }
  },
  {
   "cell_type": "markdown",
   "source": [
    "### Load Dataset(s)"
   ],
   "metadata": {
    "collapsed": false,
    "pycharm": {
     "name": "#%% md\n"
    }
   }
  },
  {
   "cell_type": "code",
   "execution_count": 60,
   "outputs": [],
   "source": [
    "df = pd.read_csv('data/train.csv')"
   ],
   "metadata": {
    "collapsed": false,
    "pycharm": {
     "name": "#%%\n"
    }
   }
  },
  {
   "cell_type": "markdown",
   "source": [
    "### Explore & Clean Data"
   ],
   "metadata": {
    "collapsed": false,
    "pycharm": {
     "name": "#%% md\n"
    }
   }
  },
  {
   "cell_type": "code",
   "execution_count": 61,
   "outputs": [
    {
     "data": {
      "text/plain": "    2401  Borderlands  1 im getting on borderlands and i will murder you all ,\n0   2401  Borderlands  1  I am coming to the borders and I will kill you...   \n1   2401  Borderlands  1  im getting on borderlands and i will kill you ...   \n2   2401  Borderlands  1  im coming on borderlands and i will murder you...   \n3   2401  Borderlands  1  im getting on borderlands 2 and i will murder ...   \n4   2401  Borderlands  1  im getting into borderlands and i can murder y...   \n5   2402  Borderlands  1  So I spent a few hours making something for fu...   \n6   2402  Borderlands  1  So I spent a couple of hours doing something f...   \n7   2402  Borderlands  1  So I spent a few hours doing something for fun...   \n8   2402  Borderlands  1  So I spent a few hours making something for fu...   \n9   2402  Borderlands  1  2010 So I spent a few hours making something f...   \n10  2402  Borderlands  1                                                was   \n11  2403  Borderlands  0  Rock-Hard La Varlope, RARE & POWERFUL, HANDSOM...   \n12  2403  Borderlands  0  Rock-Hard La Varlope, RARE & POWERFUL, HANDSOM...   \n13  2403  Borderlands  0  Rock-Hard La Varlope, RARE & POWERFUL, HANDSOM...   \n14  2403  Borderlands  0  Rock-Hard La Vita, RARE BUT POWERFUL, HANDSOME...   \n15  2403  Borderlands  0  Live Rock - Hard music La la Varlope, RARE & t...   \n16  2403  Borderlands  0  I-Hard like me, RARE LONDON DE, HANDSOME 2011,...   \n17  2404  Borderlands  1  that was the first borderlands session in a lo...   \n18  2404  Borderlands  1  this was the first Borderlands session in a lo...   \n19  2404  Borderlands  1  that was the first borderlands session in a lo...   \n20  2404  Borderlands  1  that was the first borderlands session in a lo...   \n21  2404  Borderlands  1  that I was the first real borderlands session ...   \n22  2404  Borderlands  1  that was the first borderlands session in a ho...   \n23  2405  Borderlands -1  the biggest dissappoinment in my life came out...   \n24  2405  Borderlands -1  The biggest disappointment of my life came a y...   ",
      "text/html": "<div>\n<style scoped>\n    .dataframe tbody tr th:only-of-type {\n        vertical-align: middle;\n    }\n\n    .dataframe tbody tr th {\n        vertical-align: top;\n    }\n\n    .dataframe thead th {\n        text-align: right;\n    }\n</style>\n<table border=\"1\" class=\"dataframe\">\n  <thead>\n    <tr style=\"text-align: right;\">\n      <th></th>\n      <th>2401</th>\n      <th>Borderlands</th>\n      <th>1</th>\n      <th>im getting on borderlands and i will murder you all ,</th>\n    </tr>\n  </thead>\n  <tbody>\n    <tr>\n      <th>0</th>\n      <td>2401</td>\n      <td>Borderlands</td>\n      <td>1</td>\n      <td>I am coming to the borders and I will kill you...</td>\n    </tr>\n    <tr>\n      <th>1</th>\n      <td>2401</td>\n      <td>Borderlands</td>\n      <td>1</td>\n      <td>im getting on borderlands and i will kill you ...</td>\n    </tr>\n    <tr>\n      <th>2</th>\n      <td>2401</td>\n      <td>Borderlands</td>\n      <td>1</td>\n      <td>im coming on borderlands and i will murder you...</td>\n    </tr>\n    <tr>\n      <th>3</th>\n      <td>2401</td>\n      <td>Borderlands</td>\n      <td>1</td>\n      <td>im getting on borderlands 2 and i will murder ...</td>\n    </tr>\n    <tr>\n      <th>4</th>\n      <td>2401</td>\n      <td>Borderlands</td>\n      <td>1</td>\n      <td>im getting into borderlands and i can murder y...</td>\n    </tr>\n    <tr>\n      <th>5</th>\n      <td>2402</td>\n      <td>Borderlands</td>\n      <td>1</td>\n      <td>So I spent a few hours making something for fu...</td>\n    </tr>\n    <tr>\n      <th>6</th>\n      <td>2402</td>\n      <td>Borderlands</td>\n      <td>1</td>\n      <td>So I spent a couple of hours doing something f...</td>\n    </tr>\n    <tr>\n      <th>7</th>\n      <td>2402</td>\n      <td>Borderlands</td>\n      <td>1</td>\n      <td>So I spent a few hours doing something for fun...</td>\n    </tr>\n    <tr>\n      <th>8</th>\n      <td>2402</td>\n      <td>Borderlands</td>\n      <td>1</td>\n      <td>So I spent a few hours making something for fu...</td>\n    </tr>\n    <tr>\n      <th>9</th>\n      <td>2402</td>\n      <td>Borderlands</td>\n      <td>1</td>\n      <td>2010 So I spent a few hours making something f...</td>\n    </tr>\n    <tr>\n      <th>10</th>\n      <td>2402</td>\n      <td>Borderlands</td>\n      <td>1</td>\n      <td>was</td>\n    </tr>\n    <tr>\n      <th>11</th>\n      <td>2403</td>\n      <td>Borderlands</td>\n      <td>0</td>\n      <td>Rock-Hard La Varlope, RARE &amp; POWERFUL, HANDSOM...</td>\n    </tr>\n    <tr>\n      <th>12</th>\n      <td>2403</td>\n      <td>Borderlands</td>\n      <td>0</td>\n      <td>Rock-Hard La Varlope, RARE &amp; POWERFUL, HANDSOM...</td>\n    </tr>\n    <tr>\n      <th>13</th>\n      <td>2403</td>\n      <td>Borderlands</td>\n      <td>0</td>\n      <td>Rock-Hard La Varlope, RARE &amp; POWERFUL, HANDSOM...</td>\n    </tr>\n    <tr>\n      <th>14</th>\n      <td>2403</td>\n      <td>Borderlands</td>\n      <td>0</td>\n      <td>Rock-Hard La Vita, RARE BUT POWERFUL, HANDSOME...</td>\n    </tr>\n    <tr>\n      <th>15</th>\n      <td>2403</td>\n      <td>Borderlands</td>\n      <td>0</td>\n      <td>Live Rock - Hard music La la Varlope, RARE &amp; t...</td>\n    </tr>\n    <tr>\n      <th>16</th>\n      <td>2403</td>\n      <td>Borderlands</td>\n      <td>0</td>\n      <td>I-Hard like me, RARE LONDON DE, HANDSOME 2011,...</td>\n    </tr>\n    <tr>\n      <th>17</th>\n      <td>2404</td>\n      <td>Borderlands</td>\n      <td>1</td>\n      <td>that was the first borderlands session in a lo...</td>\n    </tr>\n    <tr>\n      <th>18</th>\n      <td>2404</td>\n      <td>Borderlands</td>\n      <td>1</td>\n      <td>this was the first Borderlands session in a lo...</td>\n    </tr>\n    <tr>\n      <th>19</th>\n      <td>2404</td>\n      <td>Borderlands</td>\n      <td>1</td>\n      <td>that was the first borderlands session in a lo...</td>\n    </tr>\n    <tr>\n      <th>20</th>\n      <td>2404</td>\n      <td>Borderlands</td>\n      <td>1</td>\n      <td>that was the first borderlands session in a lo...</td>\n    </tr>\n    <tr>\n      <th>21</th>\n      <td>2404</td>\n      <td>Borderlands</td>\n      <td>1</td>\n      <td>that I was the first real borderlands session ...</td>\n    </tr>\n    <tr>\n      <th>22</th>\n      <td>2404</td>\n      <td>Borderlands</td>\n      <td>1</td>\n      <td>that was the first borderlands session in a ho...</td>\n    </tr>\n    <tr>\n      <th>23</th>\n      <td>2405</td>\n      <td>Borderlands</td>\n      <td>-1</td>\n      <td>the biggest dissappoinment in my life came out...</td>\n    </tr>\n    <tr>\n      <th>24</th>\n      <td>2405</td>\n      <td>Borderlands</td>\n      <td>-1</td>\n      <td>The biggest disappointment of my life came a y...</td>\n    </tr>\n  </tbody>\n</table>\n</div>"
     },
     "execution_count": 61,
     "metadata": {},
     "output_type": "execute_result"
    }
   ],
   "source": [
    "df.head(25)"
   ],
   "metadata": {
    "collapsed": false,
    "pycharm": {
     "name": "#%%\n"
    }
   }
  },
  {
   "cell_type": "code",
   "execution_count": 62,
   "outputs": [],
   "source": [
    "df.columns = ['id', 'entity', 'sentiment', 'review']"
   ],
   "metadata": {
    "collapsed": false,
    "pycharm": {
     "name": "#%%\n"
    }
   }
  },
  {
   "cell_type": "code",
   "execution_count": 63,
   "outputs": [],
   "source": [
    "train = df.drop(columns=['id', 'entity'])"
   ],
   "metadata": {
    "collapsed": false,
    "pycharm": {
     "name": "#%%\n"
    }
   }
  },
  {
   "cell_type": "code",
   "execution_count": 64,
   "outputs": [
    {
     "data": {
      "text/plain": "    sentiment                                             review\n0           1  I am coming to the borders and I will kill you...\n1           1  im getting on borderlands and i will kill you ...\n2           1  im coming on borderlands and i will murder you...\n3           1  im getting on borderlands 2 and i will murder ...\n4           1  im getting into borderlands and i can murder y...\n5           1  So I spent a few hours making something for fu...\n6           1  So I spent a couple of hours doing something f...\n7           1  So I spent a few hours doing something for fun...\n8           1  So I spent a few hours making something for fu...\n9           1  2010 So I spent a few hours making something f...\n10          1                                                was\n11          0  Rock-Hard La Varlope, RARE & POWERFUL, HANDSOM...\n12          0  Rock-Hard La Varlope, RARE & POWERFUL, HANDSOM...\n13          0  Rock-Hard La Varlope, RARE & POWERFUL, HANDSOM...\n14          0  Rock-Hard La Vita, RARE BUT POWERFUL, HANDSOME...\n15          0  Live Rock - Hard music La la Varlope, RARE & t...\n16          0  I-Hard like me, RARE LONDON DE, HANDSOME 2011,...\n17          1  that was the first borderlands session in a lo...\n18          1  this was the first Borderlands session in a lo...\n19          1  that was the first borderlands session in a lo...\n20          1  that was the first borderlands session in a lo...\n21          1  that I was the first real borderlands session ...\n22          1  that was the first borderlands session in a ho...\n23         -1  the biggest dissappoinment in my life came out...\n24         -1  The biggest disappointment of my life came a y...",
      "text/html": "<div>\n<style scoped>\n    .dataframe tbody tr th:only-of-type {\n        vertical-align: middle;\n    }\n\n    .dataframe tbody tr th {\n        vertical-align: top;\n    }\n\n    .dataframe thead th {\n        text-align: right;\n    }\n</style>\n<table border=\"1\" class=\"dataframe\">\n  <thead>\n    <tr style=\"text-align: right;\">\n      <th></th>\n      <th>sentiment</th>\n      <th>review</th>\n    </tr>\n  </thead>\n  <tbody>\n    <tr>\n      <th>0</th>\n      <td>1</td>\n      <td>I am coming to the borders and I will kill you...</td>\n    </tr>\n    <tr>\n      <th>1</th>\n      <td>1</td>\n      <td>im getting on borderlands and i will kill you ...</td>\n    </tr>\n    <tr>\n      <th>2</th>\n      <td>1</td>\n      <td>im coming on borderlands and i will murder you...</td>\n    </tr>\n    <tr>\n      <th>3</th>\n      <td>1</td>\n      <td>im getting on borderlands 2 and i will murder ...</td>\n    </tr>\n    <tr>\n      <th>4</th>\n      <td>1</td>\n      <td>im getting into borderlands and i can murder y...</td>\n    </tr>\n    <tr>\n      <th>5</th>\n      <td>1</td>\n      <td>So I spent a few hours making something for fu...</td>\n    </tr>\n    <tr>\n      <th>6</th>\n      <td>1</td>\n      <td>So I spent a couple of hours doing something f...</td>\n    </tr>\n    <tr>\n      <th>7</th>\n      <td>1</td>\n      <td>So I spent a few hours doing something for fun...</td>\n    </tr>\n    <tr>\n      <th>8</th>\n      <td>1</td>\n      <td>So I spent a few hours making something for fu...</td>\n    </tr>\n    <tr>\n      <th>9</th>\n      <td>1</td>\n      <td>2010 So I spent a few hours making something f...</td>\n    </tr>\n    <tr>\n      <th>10</th>\n      <td>1</td>\n      <td>was</td>\n    </tr>\n    <tr>\n      <th>11</th>\n      <td>0</td>\n      <td>Rock-Hard La Varlope, RARE &amp; POWERFUL, HANDSOM...</td>\n    </tr>\n    <tr>\n      <th>12</th>\n      <td>0</td>\n      <td>Rock-Hard La Varlope, RARE &amp; POWERFUL, HANDSOM...</td>\n    </tr>\n    <tr>\n      <th>13</th>\n      <td>0</td>\n      <td>Rock-Hard La Varlope, RARE &amp; POWERFUL, HANDSOM...</td>\n    </tr>\n    <tr>\n      <th>14</th>\n      <td>0</td>\n      <td>Rock-Hard La Vita, RARE BUT POWERFUL, HANDSOME...</td>\n    </tr>\n    <tr>\n      <th>15</th>\n      <td>0</td>\n      <td>Live Rock - Hard music La la Varlope, RARE &amp; t...</td>\n    </tr>\n    <tr>\n      <th>16</th>\n      <td>0</td>\n      <td>I-Hard like me, RARE LONDON DE, HANDSOME 2011,...</td>\n    </tr>\n    <tr>\n      <th>17</th>\n      <td>1</td>\n      <td>that was the first borderlands session in a lo...</td>\n    </tr>\n    <tr>\n      <th>18</th>\n      <td>1</td>\n      <td>this was the first Borderlands session in a lo...</td>\n    </tr>\n    <tr>\n      <th>19</th>\n      <td>1</td>\n      <td>that was the first borderlands session in a lo...</td>\n    </tr>\n    <tr>\n      <th>20</th>\n      <td>1</td>\n      <td>that was the first borderlands session in a lo...</td>\n    </tr>\n    <tr>\n      <th>21</th>\n      <td>1</td>\n      <td>that I was the first real borderlands session ...</td>\n    </tr>\n    <tr>\n      <th>22</th>\n      <td>1</td>\n      <td>that was the first borderlands session in a ho...</td>\n    </tr>\n    <tr>\n      <th>23</th>\n      <td>-1</td>\n      <td>the biggest dissappoinment in my life came out...</td>\n    </tr>\n    <tr>\n      <th>24</th>\n      <td>-1</td>\n      <td>The biggest disappointment of my life came a y...</td>\n    </tr>\n  </tbody>\n</table>\n</div>"
     },
     "execution_count": 64,
     "metadata": {},
     "output_type": "execute_result"
    }
   ],
   "source": [
    "train.head(25)"
   ],
   "metadata": {
    "collapsed": false,
    "pycharm": {
     "name": "#%%\n"
    }
   }
  },
  {
   "cell_type": "code",
   "execution_count": 65,
   "outputs": [
    {
     "data": {
      "text/plain": "sentiment\n 0    31308\n-1    22542\n 1    20831\ndtype: int64"
     },
     "execution_count": 65,
     "metadata": {},
     "output_type": "execute_result"
    }
   ],
   "source": [
    "train.value_counts('sentiment')"
   ],
   "metadata": {
    "collapsed": false,
    "pycharm": {
     "name": "#%%\n"
    }
   }
  },
  {
   "cell_type": "code",
   "execution_count": 66,
   "outputs": [],
   "source": [
    "train = train[train['sentiment'] != 0]"
   ],
   "metadata": {
    "collapsed": false,
    "pycharm": {
     "name": "#%%\n"
    }
   }
  },
  {
   "cell_type": "code",
   "execution_count": 67,
   "outputs": [
    {
     "data": {
      "text/plain": "sentiment\n-1    22542\n 1    20831\ndtype: int64"
     },
     "execution_count": 67,
     "metadata": {},
     "output_type": "execute_result"
    }
   ],
   "source": [
    "train.value_counts('sentiment')"
   ],
   "metadata": {
    "collapsed": false,
    "pycharm": {
     "name": "#%%\n"
    }
   }
  },
  {
   "cell_type": "code",
   "execution_count": 68,
   "outputs": [],
   "source": [
    "train['sentiment'].mask(train['sentiment'] == -1, 0, inplace=True)"
   ],
   "metadata": {
    "collapsed": false,
    "pycharm": {
     "name": "#%%\n"
    }
   }
  },
  {
   "cell_type": "code",
   "execution_count": 69,
   "outputs": [
    {
     "data": {
      "text/plain": "sentiment\n0    22542\n1    20831\ndtype: int64"
     },
     "execution_count": 69,
     "metadata": {},
     "output_type": "execute_result"
    }
   ],
   "source": [
    "train.value_counts('sentiment')"
   ],
   "metadata": {
    "collapsed": false,
    "pycharm": {
     "name": "#%%\n"
    }
   }
  },
  {
   "cell_type": "code",
   "execution_count": 70,
   "outputs": [
    {
     "data": {
      "text/plain": "sentiment      0\nreview       361\ndtype: int64"
     },
     "execution_count": 70,
     "metadata": {},
     "output_type": "execute_result"
    }
   ],
   "source": [
    "train.isna().sum()"
   ],
   "metadata": {
    "collapsed": false,
    "pycharm": {
     "name": "#%%\n"
    }
   }
  },
  {
   "cell_type": "code",
   "execution_count": 71,
   "outputs": [],
   "source": [
    "train.dropna(axis=0, inplace=True)"
   ],
   "metadata": {
    "collapsed": false,
    "pycharm": {
     "name": "#%%\n"
    }
   }
  },
  {
   "cell_type": "code",
   "execution_count": 72,
   "outputs": [
    {
     "data": {
      "text/plain": "sentiment    0\nreview       0\ndtype: int64"
     },
     "execution_count": 72,
     "metadata": {},
     "output_type": "execute_result"
    }
   ],
   "source": [
    "train.isna().sum()"
   ],
   "metadata": {
    "collapsed": false,
    "pycharm": {
     "name": "#%%\n"
    }
   }
  },
  {
   "cell_type": "code",
   "execution_count": 73,
   "outputs": [
    {
     "data": {
      "text/plain": "['because',\n 'out',\n 'her',\n \"'s\",\n 'does',\n 'even',\n 'will',\n 'been',\n 'any',\n 'name',\n 'same',\n \"'d\",\n 'n’t',\n 'by',\n 'seeming',\n 'unless',\n 'them',\n 'nowhere',\n 'when',\n 'towards',\n 'was',\n 'to',\n \"'re\",\n 'your',\n 'former',\n 'who',\n 'between',\n 'hereby',\n 'seem',\n 'those',\n 'part',\n 'someone',\n 'myself',\n 'however',\n 'ten',\n 'have',\n 'made',\n 'other',\n 'my',\n 'across',\n 'amongst',\n 'empty',\n 'yours',\n 'after',\n '‘s',\n 'besides',\n 'much',\n 'one',\n 'for',\n 'further',\n 'top',\n 'it',\n '‘d',\n '’m',\n 'again',\n 'last',\n 'few',\n 'anyone',\n 'before',\n 'thru',\n 'many',\n 'front',\n 'others',\n 'regarding',\n 'during',\n '‘ve',\n 'there',\n 'hereupon',\n 'two',\n 'nevertheless',\n 'whole',\n 'sometimes',\n 'had',\n 'elsewhere',\n 'should',\n 'we',\n 'us',\n 'into',\n 'least',\n 'if',\n 'none',\n 'might',\n 'hence',\n 'though',\n 'a',\n 'above',\n 'still',\n 'each',\n 'thereafter',\n 'you',\n 'formerly',\n 'say',\n 'thence',\n 'nor',\n 'perhaps',\n 'else',\n 'whoever',\n 'only',\n 'without',\n 'whither',\n 'do',\n 'often',\n 'whereupon',\n 'used',\n '‘ll',\n 'then',\n 'mine',\n 'serious',\n 'thereby',\n 'something',\n 'whatever',\n 're',\n 'doing',\n 'becoming',\n 'or',\n 'while',\n 'next',\n 'yet',\n 'either',\n 'using',\n 'thereupon',\n 'be',\n 'call',\n 'seems',\n 'eleven',\n 'sometime',\n 'of',\n 'itself',\n 'that',\n 'whenever',\n 'ourselves',\n '’ll',\n 'how',\n 'under',\n 'moreover',\n 'these',\n 'and',\n 'yourself',\n 'everyone',\n 'give',\n 'six',\n 'hundred',\n 'somehow',\n 'below',\n 'therefore',\n 'become',\n 'can',\n 'him',\n 'must',\n 'this',\n 'fifteen',\n 'take',\n 'wherein',\n 'from',\n 'too',\n 'already',\n 'indeed',\n 'anyway',\n \"n't\",\n 'just',\n 'see',\n 'please',\n 'seemed',\n 'on',\n 'third',\n 'less',\n 'four',\n 'nobody',\n 'side',\n '’d',\n 'per',\n 'his',\n 'about',\n 'which',\n 'n‘t',\n 'along',\n 'forty',\n 'fifty',\n '’s',\n 'show',\n 'some',\n 'where',\n 'due',\n 'first',\n 'everywhere',\n 'being',\n 'ours',\n 'wherever',\n 'among',\n 'at',\n 'twenty',\n 'what',\n '‘re',\n 'than',\n 'whereas',\n 'cannot',\n 'various',\n 'with',\n 'whereafter',\n 'meanwhile',\n 'she',\n 'somewhere',\n 'more',\n 'ever',\n 'keep',\n 'amount',\n 'over',\n 'get',\n 'really',\n 'except',\n 'within',\n 'hereafter',\n 'otherwise',\n 'neither',\n 'always',\n 'put',\n 'herself',\n 'nothing',\n 'namely',\n 'toward',\n 'since',\n 'full',\n 'against',\n 'quite',\n 'herein',\n 'onto',\n 'thus',\n 'noone',\n 'therein',\n 'me',\n 'why',\n 'beside',\n 'he',\n 'now',\n 'as',\n 'themselves',\n 'they',\n 'off',\n 'until',\n 'anyhow',\n 'were',\n 'through',\n 'may',\n 'another',\n 'behind',\n 'becomes',\n 'whom',\n 'down',\n 'together',\n 'own',\n 'would',\n 'well',\n 'five',\n 'done',\n 'the',\n 'did',\n 'ca',\n 'never',\n 'make',\n '’ve',\n \"'m\",\n '’re',\n 'latterly',\n 'around',\n 'go',\n 'yourselves',\n 'both',\n 'hers',\n 'back',\n 'nine',\n 'eight',\n 'no',\n 'beyond',\n 'their',\n 'rather',\n 'every',\n 'our',\n 'up',\n 'not',\n 'himself',\n 'once',\n 'whereby',\n 'beforehand',\n 'i',\n 'latter',\n 'whether',\n 'bottom',\n 'am',\n 'but',\n 'enough',\n 'alone',\n 'such',\n 'is',\n 'in',\n 'most',\n 'anywhere',\n 'move',\n 'also',\n 'twelve',\n 'could',\n 'became',\n 'very',\n 'almost',\n 'are',\n \"'ve\",\n 'here',\n 'via',\n 'an',\n 'everything',\n 'upon',\n 'all',\n 'anything',\n 'mostly',\n 'whose',\n 'afterwards',\n '‘m',\n 'its',\n 'sixty',\n 'although',\n 'has',\n 'so',\n \"'ll\",\n 'several',\n 'whence',\n 'throughout',\n 'three']"
     },
     "execution_count": 73,
     "metadata": {},
     "output_type": "execute_result"
    }
   ],
   "source": [
    "stopwords = list(STOP_WORDS)\n",
    "stopwords"
   ],
   "metadata": {
    "collapsed": false,
    "pycharm": {
     "name": "#%%\n"
    }
   }
  },
  {
   "cell_type": "code",
   "execution_count": 74,
   "outputs": [],
   "source": [
    "def clean_text(s):\n",
    "    split_text = s.split()\n",
    "    cleaned_text = [word for word in split_text if word not in stopwords]\n",
    "    final_text = ' '.join(cleaned_text)\n",
    "    return final_text"
   ],
   "metadata": {
    "collapsed": false,
    "pycharm": {
     "name": "#%%\n"
    }
   }
  },
  {
   "cell_type": "code",
   "execution_count": 75,
   "outputs": [
    {
     "data": {
      "text/plain": "\"So I spent couple hours fun... If don't know I'm huge @ Borderlands fan Maya favorite characters, I decided wallpaper PC.. Her...\""
     },
     "execution_count": 75,
     "metadata": {},
     "output_type": "execute_result"
    }
   ],
   "source": [
    "text = \"So I spent a couple of hours doing something for fun... If you don't know that I'm a huge @ Borderlands fan and Maya is one of my favorite characters, I decided to make a wallpaper for my PC.. Her...\"\n",
    "\n",
    "clean_text(text)"
   ],
   "metadata": {
    "collapsed": false,
    "pycharm": {
     "name": "#%%\n"
    }
   }
  },
  {
   "cell_type": "code",
   "execution_count": 76,
   "outputs": [],
   "source": [
    "train['review'] = train['review'].apply(clean_text)"
   ],
   "metadata": {
    "collapsed": false,
    "pycharm": {
     "name": "#%%\n"
    }
   }
  },
  {
   "cell_type": "code",
   "execution_count": 77,
   "outputs": [
    {
     "data": {
      "text/plain": "    sentiment                                             review\n0           1                       I coming borders I kill all,\n1           1                   im getting borderlands kill all,\n2           1                  im coming borderlands murder all,\n3           1               im getting borderlands 2 murder all,\n4           1                 im getting borderlands murder all,\n5           1  So I spent hours making fun. . . If don't know...\n6           1  So I spent couple hours fun... If don't know I...\n7           1  So I spent hours fun... If don't know I'm HUGE...\n8           1  So I spent hours making fun. . . If don't know...\n9           1  2010 So I spent hours making fun. . . If don't...\n10          1                                                   \n17          1  borderlands session long time actually satisfy...\n18          1  Borderlands session long time actually satisfy...\n19          1  borderlands session long time actually satisfy...\n20          1  borderlands session long time actually enjoyed...\n21          1  I real borderlands session nice long wait time...\n22          1  borderlands session hot row actually bad comba...\n23          0  biggest dissappoinment life came year ago fuck...\n24          0     The biggest disappointment life came year ago.\n25          0     The biggest disappointment life came year ago.\n26          0  biggest dissappoinment life coming year ago fu...\n27          0  For biggest male dissappoinment life came hang...\n28          0  biggest dissappoinment life came year ago fuck...\n29          1  WE FINISHED BORDERLANDS 3 FINALLY YAS! Thank h...\n30          1  WE FINALLY FINALLY FIND BORDERLANDS 3 YES! Tha...",
      "text/html": "<div>\n<style scoped>\n    .dataframe tbody tr th:only-of-type {\n        vertical-align: middle;\n    }\n\n    .dataframe tbody tr th {\n        vertical-align: top;\n    }\n\n    .dataframe thead th {\n        text-align: right;\n    }\n</style>\n<table border=\"1\" class=\"dataframe\">\n  <thead>\n    <tr style=\"text-align: right;\">\n      <th></th>\n      <th>sentiment</th>\n      <th>review</th>\n    </tr>\n  </thead>\n  <tbody>\n    <tr>\n      <th>0</th>\n      <td>1</td>\n      <td>I coming borders I kill all,</td>\n    </tr>\n    <tr>\n      <th>1</th>\n      <td>1</td>\n      <td>im getting borderlands kill all,</td>\n    </tr>\n    <tr>\n      <th>2</th>\n      <td>1</td>\n      <td>im coming borderlands murder all,</td>\n    </tr>\n    <tr>\n      <th>3</th>\n      <td>1</td>\n      <td>im getting borderlands 2 murder all,</td>\n    </tr>\n    <tr>\n      <th>4</th>\n      <td>1</td>\n      <td>im getting borderlands murder all,</td>\n    </tr>\n    <tr>\n      <th>5</th>\n      <td>1</td>\n      <td>So I spent hours making fun. . . If don't know...</td>\n    </tr>\n    <tr>\n      <th>6</th>\n      <td>1</td>\n      <td>So I spent couple hours fun... If don't know I...</td>\n    </tr>\n    <tr>\n      <th>7</th>\n      <td>1</td>\n      <td>So I spent hours fun... If don't know I'm HUGE...</td>\n    </tr>\n    <tr>\n      <th>8</th>\n      <td>1</td>\n      <td>So I spent hours making fun. . . If don't know...</td>\n    </tr>\n    <tr>\n      <th>9</th>\n      <td>1</td>\n      <td>2010 So I spent hours making fun. . . If don't...</td>\n    </tr>\n    <tr>\n      <th>10</th>\n      <td>1</td>\n      <td></td>\n    </tr>\n    <tr>\n      <th>17</th>\n      <td>1</td>\n      <td>borderlands session long time actually satisfy...</td>\n    </tr>\n    <tr>\n      <th>18</th>\n      <td>1</td>\n      <td>Borderlands session long time actually satisfy...</td>\n    </tr>\n    <tr>\n      <th>19</th>\n      <td>1</td>\n      <td>borderlands session long time actually satisfy...</td>\n    </tr>\n    <tr>\n      <th>20</th>\n      <td>1</td>\n      <td>borderlands session long time actually enjoyed...</td>\n    </tr>\n    <tr>\n      <th>21</th>\n      <td>1</td>\n      <td>I real borderlands session nice long wait time...</td>\n    </tr>\n    <tr>\n      <th>22</th>\n      <td>1</td>\n      <td>borderlands session hot row actually bad comba...</td>\n    </tr>\n    <tr>\n      <th>23</th>\n      <td>0</td>\n      <td>biggest dissappoinment life came year ago fuck...</td>\n    </tr>\n    <tr>\n      <th>24</th>\n      <td>0</td>\n      <td>The biggest disappointment life came year ago.</td>\n    </tr>\n    <tr>\n      <th>25</th>\n      <td>0</td>\n      <td>The biggest disappointment life came year ago.</td>\n    </tr>\n    <tr>\n      <th>26</th>\n      <td>0</td>\n      <td>biggest dissappoinment life coming year ago fu...</td>\n    </tr>\n    <tr>\n      <th>27</th>\n      <td>0</td>\n      <td>For biggest male dissappoinment life came hang...</td>\n    </tr>\n    <tr>\n      <th>28</th>\n      <td>0</td>\n      <td>biggest dissappoinment life came year ago fuck...</td>\n    </tr>\n    <tr>\n      <th>29</th>\n      <td>1</td>\n      <td>WE FINISHED BORDERLANDS 3 FINALLY YAS! Thank h...</td>\n    </tr>\n    <tr>\n      <th>30</th>\n      <td>1</td>\n      <td>WE FINALLY FINALLY FIND BORDERLANDS 3 YES! Tha...</td>\n    </tr>\n  </tbody>\n</table>\n</div>"
     },
     "execution_count": 77,
     "metadata": {},
     "output_type": "execute_result"
    }
   ],
   "source": [
    "train.head(25)"
   ],
   "metadata": {
    "collapsed": false,
    "pycharm": {
     "name": "#%%\n"
    }
   }
  },
  {
   "cell_type": "markdown",
   "source": [
    "### Create Data Processing Pipeline"
   ],
   "metadata": {
    "collapsed": false,
    "pycharm": {
     "name": "#%% md\n"
    }
   }
  },
  {
   "cell_type": "code",
   "execution_count": 78,
   "outputs": [],
   "source": [
    "def cleaner(df_path):\n",
    "    initial_df = pd.read_csv(df_path)\n",
    "    initial_df.columns = ['id', 'entity', 'sentiment', 'review']\n",
    "    initial_df.drop(columns=['id', 'entity'])\n",
    "    prepped_df = initial_df[initial_df['sentiment'] != 0]\n",
    "    prepped_df['sentiment'].mask(prepped_df['sentiment'] == -1, 0, inplace=True)\n",
    "    prepped_df['review'] = prepped_df['review'].apply(clean_text)\n",
    "    return prepped_df"
   ],
   "metadata": {
    "collapsed": false,
    "pycharm": {
     "name": "#%%\n"
    }
   }
  },
  {
   "cell_type": "markdown",
   "source": [
    "#### Utilize data processing to prep test data"
   ],
   "metadata": {
    "collapsed": false,
    "pycharm": {
     "name": "#%% md\n"
    }
   }
  },
  {
   "cell_type": "code",
   "execution_count": 79,
   "outputs": [],
   "source": [
    "test = cleaner('data/test.csv')"
   ],
   "metadata": {
    "collapsed": false,
    "pycharm": {
     "name": "#%%\n"
    }
   }
  },
  {
   "cell_type": "code",
   "execution_count": 80,
   "outputs": [
    {
     "data": {
      "text/plain": "       id                  entity  sentiment  \\\n1    8312               Microsoft          0   \n2    4371                   CS-GO          0   \n4    6273                    FIFA          0   \n5    7925               MaddenNFL          1   \n6   11332    TomClancysRainbowSix          1   \n7    1107          AssassinsCreed          1   \n8    2069              CallOfDuty          0   \n9    3185                   Dota2          1   \n10   1172          AssassinsCreed          1   \n11  11783                 Verizon          0   \n13   8431                   NBA2K          0   \n14   9135                  Nvidia          1   \n15   4822     GrandTheftAuto(GTA)          1   \n16   3068                   Dota2          0   \n17  10537  RedDeadRedemption(RDR)          1   \n18   8056               Microsoft          0   \n19   2131              CallOfDuty          0   \n22   4038                   CS-GO          0   \n25  11995                 Verizon          0   \n28   2419             Borderlands          0   \n29   8857                  Nvidia          1   \n30   9704       PlayStation5(PS5)          1   \n31   7024         johnson&johnson          0   \n32   8842                  Nvidia          1   \n33   6650                Fortnite          0   \n\n                                               review  \n1   @Microsoft Why I pay WORD functions poorly @Sa...  \n2   CSGO matchmaking closet hacking, it's truly aw...  \n4   Hi @EAHelp I’ve Madeleine McCann cellar past 1...  \n5   Thank @EAMaddenNFL!! New TE Austin Hooper ORAN...  \n6   Rocket League, Sea Thieves Rainbow Six: Siege🤔...  \n7   ass knee-deep Assassins Creed Odyssey way anyt...  \n8   FIX IT JESUS ! Please FIX IT ! What In world g...  \n9   The professional dota 2 scene fucking explodin...  \n10  Itching assassinate #TCCGif #AssassinsCreedBla...  \n11  @FredTJoseph hey fred, Comcast cut cable Veriz...  \n13  @NBA2K game sucks... 2 38 seconds left team in...  \n14  Congrats NVIDIA NeMo team 1.0.0 release candid...  \n15                                      yeah it’s fun  \n16                                        fuck life 😆  \n17  happy birthday red dead redemption shit change...  \n18  What Microsoft hardware & software security - ...  \n19             The new @CallofDuty ps5 🔥🔥🔥🔥 Oh God 😭😍  \n22  Finally played Rainbow Six Siege time... I adm...  \n25  Yo! @Verizon added $120 'fee' account #COVID19...  \n28  @Borderlands I submit complaint? Your CEO isn'...  \n29  Watching NVIDIA position leading hardware manu...  \n30  I don’t looks like Xbox controller y’all anyth...  \n31  Johnson & Johnson, knowingly sold baby powder ...  \n32        The things I @nvidia 3090... unspeakable! 🧐  \n33         Fortnite running like ass.. fps drops wtf?  ",
      "text/html": "<div>\n<style scoped>\n    .dataframe tbody tr th:only-of-type {\n        vertical-align: middle;\n    }\n\n    .dataframe tbody tr th {\n        vertical-align: top;\n    }\n\n    .dataframe thead th {\n        text-align: right;\n    }\n</style>\n<table border=\"1\" class=\"dataframe\">\n  <thead>\n    <tr style=\"text-align: right;\">\n      <th></th>\n      <th>id</th>\n      <th>entity</th>\n      <th>sentiment</th>\n      <th>review</th>\n    </tr>\n  </thead>\n  <tbody>\n    <tr>\n      <th>1</th>\n      <td>8312</td>\n      <td>Microsoft</td>\n      <td>0</td>\n      <td>@Microsoft Why I pay WORD functions poorly @Sa...</td>\n    </tr>\n    <tr>\n      <th>2</th>\n      <td>4371</td>\n      <td>CS-GO</td>\n      <td>0</td>\n      <td>CSGO matchmaking closet hacking, it's truly aw...</td>\n    </tr>\n    <tr>\n      <th>4</th>\n      <td>6273</td>\n      <td>FIFA</td>\n      <td>0</td>\n      <td>Hi @EAHelp I’ve Madeleine McCann cellar past 1...</td>\n    </tr>\n    <tr>\n      <th>5</th>\n      <td>7925</td>\n      <td>MaddenNFL</td>\n      <td>1</td>\n      <td>Thank @EAMaddenNFL!! New TE Austin Hooper ORAN...</td>\n    </tr>\n    <tr>\n      <th>6</th>\n      <td>11332</td>\n      <td>TomClancysRainbowSix</td>\n      <td>1</td>\n      <td>Rocket League, Sea Thieves Rainbow Six: Siege🤔...</td>\n    </tr>\n    <tr>\n      <th>7</th>\n      <td>1107</td>\n      <td>AssassinsCreed</td>\n      <td>1</td>\n      <td>ass knee-deep Assassins Creed Odyssey way anyt...</td>\n    </tr>\n    <tr>\n      <th>8</th>\n      <td>2069</td>\n      <td>CallOfDuty</td>\n      <td>0</td>\n      <td>FIX IT JESUS ! Please FIX IT ! What In world g...</td>\n    </tr>\n    <tr>\n      <th>9</th>\n      <td>3185</td>\n      <td>Dota2</td>\n      <td>1</td>\n      <td>The professional dota 2 scene fucking explodin...</td>\n    </tr>\n    <tr>\n      <th>10</th>\n      <td>1172</td>\n      <td>AssassinsCreed</td>\n      <td>1</td>\n      <td>Itching assassinate #TCCGif #AssassinsCreedBla...</td>\n    </tr>\n    <tr>\n      <th>11</th>\n      <td>11783</td>\n      <td>Verizon</td>\n      <td>0</td>\n      <td>@FredTJoseph hey fred, Comcast cut cable Veriz...</td>\n    </tr>\n    <tr>\n      <th>13</th>\n      <td>8431</td>\n      <td>NBA2K</td>\n      <td>0</td>\n      <td>@NBA2K game sucks... 2 38 seconds left team in...</td>\n    </tr>\n    <tr>\n      <th>14</th>\n      <td>9135</td>\n      <td>Nvidia</td>\n      <td>1</td>\n      <td>Congrats NVIDIA NeMo team 1.0.0 release candid...</td>\n    </tr>\n    <tr>\n      <th>15</th>\n      <td>4822</td>\n      <td>GrandTheftAuto(GTA)</td>\n      <td>1</td>\n      <td>yeah it’s fun</td>\n    </tr>\n    <tr>\n      <th>16</th>\n      <td>3068</td>\n      <td>Dota2</td>\n      <td>0</td>\n      <td>fuck life 😆</td>\n    </tr>\n    <tr>\n      <th>17</th>\n      <td>10537</td>\n      <td>RedDeadRedemption(RDR)</td>\n      <td>1</td>\n      <td>happy birthday red dead redemption shit change...</td>\n    </tr>\n    <tr>\n      <th>18</th>\n      <td>8056</td>\n      <td>Microsoft</td>\n      <td>0</td>\n      <td>What Microsoft hardware &amp; software security - ...</td>\n    </tr>\n    <tr>\n      <th>19</th>\n      <td>2131</td>\n      <td>CallOfDuty</td>\n      <td>0</td>\n      <td>The new @CallofDuty ps5 🔥🔥🔥🔥 Oh God 😭😍</td>\n    </tr>\n    <tr>\n      <th>22</th>\n      <td>4038</td>\n      <td>CS-GO</td>\n      <td>0</td>\n      <td>Finally played Rainbow Six Siege time... I adm...</td>\n    </tr>\n    <tr>\n      <th>25</th>\n      <td>11995</td>\n      <td>Verizon</td>\n      <td>0</td>\n      <td>Yo! @Verizon added $120 'fee' account #COVID19...</td>\n    </tr>\n    <tr>\n      <th>28</th>\n      <td>2419</td>\n      <td>Borderlands</td>\n      <td>0</td>\n      <td>@Borderlands I submit complaint? Your CEO isn'...</td>\n    </tr>\n    <tr>\n      <th>29</th>\n      <td>8857</td>\n      <td>Nvidia</td>\n      <td>1</td>\n      <td>Watching NVIDIA position leading hardware manu...</td>\n    </tr>\n    <tr>\n      <th>30</th>\n      <td>9704</td>\n      <td>PlayStation5(PS5)</td>\n      <td>1</td>\n      <td>I don’t looks like Xbox controller y’all anyth...</td>\n    </tr>\n    <tr>\n      <th>31</th>\n      <td>7024</td>\n      <td>johnson&amp;johnson</td>\n      <td>0</td>\n      <td>Johnson &amp; Johnson, knowingly sold baby powder ...</td>\n    </tr>\n    <tr>\n      <th>32</th>\n      <td>8842</td>\n      <td>Nvidia</td>\n      <td>1</td>\n      <td>The things I @nvidia 3090... unspeakable! 🧐</td>\n    </tr>\n    <tr>\n      <th>33</th>\n      <td>6650</td>\n      <td>Fortnite</td>\n      <td>0</td>\n      <td>Fortnite running like ass.. fps drops wtf?</td>\n    </tr>\n  </tbody>\n</table>\n</div>"
     },
     "execution_count": 80,
     "metadata": {},
     "output_type": "execute_result"
    }
   ],
   "source": [
    "test.head(25)"
   ],
   "metadata": {
    "collapsed": false,
    "pycharm": {
     "name": "#%%\n"
    }
   }
  },
  {
   "cell_type": "markdown",
   "source": [
    "### Setup sklearn imports"
   ],
   "metadata": {
    "collapsed": false,
    "pycharm": {
     "name": "#%% md\n"
    }
   }
  },
  {
   "cell_type": "code",
   "execution_count": 92,
   "outputs": [],
   "source": [
    "X_train = train['review']\n",
    "y_train = train['sentiment']\n",
    "\n",
    "X_test = test['review']\n",
    "y_test = test['sentiment']"
   ],
   "metadata": {
    "collapsed": false,
    "pycharm": {
     "name": "#%%\n"
    }
   }
  },
  {
   "cell_type": "code",
   "execution_count": 82,
   "outputs": [],
   "source": [
    "pipe = Pipeline([('vectorizer', TfidfVectorizer()),\n",
    "                 ('classifier', LinearSVC())])"
   ],
   "metadata": {
    "collapsed": false,
    "pycharm": {
     "name": "#%%\n"
    }
   }
  },
  {
   "cell_type": "code",
   "execution_count": 83,
   "outputs": [],
   "source": [
    "pipe_model = pipe.fit(X_train, y_train)"
   ],
   "metadata": {
    "collapsed": false,
    "pycharm": {
     "name": "#%%\n"
    }
   }
  },
  {
   "cell_type": "code",
   "execution_count": 98,
   "outputs": [
    {
     "data": {
      "text/plain": "0.9815837937384899"
     },
     "execution_count": 98,
     "metadata": {},
     "output_type": "execute_result"
    }
   ],
   "source": [
    "predictions = pipe_model.predict(X_test)\n",
    "accuracy_score(y_test, predictions)"
   ],
   "metadata": {
    "collapsed": false,
    "pycharm": {
     "name": "#%%\n"
    }
   }
  },
  {
   "cell_type": "code",
   "execution_count": 99,
   "outputs": [],
   "source": [
    "pipe2 = Pipeline([('vectorizer', TfidfVectorizer()),\n",
    "                 ('classifier', MultinomialNB())])"
   ],
   "metadata": {
    "collapsed": false,
    "pycharm": {
     "name": "#%%\n"
    }
   }
  },
  {
   "cell_type": "code",
   "execution_count": 100,
   "outputs": [],
   "source": [
    "pipe2_model = pipe2.fit(X_train, y_train)"
   ],
   "metadata": {
    "collapsed": false,
    "pycharm": {
     "name": "#%%\n"
    }
   }
  },
  {
   "cell_type": "code",
   "execution_count": 101,
   "outputs": [
    {
     "data": {
      "text/plain": "0.9392265193370166"
     },
     "execution_count": 101,
     "metadata": {},
     "output_type": "execute_result"
    }
   ],
   "source": [
    "predictions2 = pipe2_model.predict(X_test)\n",
    "accuracy_score(y_test, predictions2)"
   ],
   "metadata": {
    "collapsed": false,
    "pycharm": {
     "name": "#%%\n"
    }
   }
  },
  {
   "cell_type": "code",
   "execution_count": 88,
   "outputs": [],
   "source": [
    "pipe3 = Pipeline([('vectorizer', TfidfVectorizer()),\n",
    "                 ('classifier', SGDClassifier(loss='hinge', penalty='l2',\n",
    "                                              alpha=1e-3, random_state=42,\n",
    "                                              max_iter=5, tol=None))])"
   ],
   "metadata": {
    "collapsed": false,
    "pycharm": {
     "name": "#%%\n"
    }
   }
  },
  {
   "cell_type": "code",
   "execution_count": 89,
   "outputs": [],
   "source": [
    "pipe3_model = pipe3.fit(X_train, y_train)"
   ],
   "metadata": {
    "collapsed": false,
    "pycharm": {
     "name": "#%%\n"
    }
   }
  },
  {
   "cell_type": "code",
   "execution_count": 102,
   "outputs": [
    {
     "data": {
      "text/plain": "0.8379373848987108"
     },
     "execution_count": 102,
     "metadata": {},
     "output_type": "execute_result"
    }
   ],
   "source": [
    "predictions3 = pipe3_model.predict(X_test)\n",
    "accuracy_score(y_test, predictions3)"
   ],
   "metadata": {
    "collapsed": false,
    "pycharm": {
     "name": "#%%\n"
    }
   }
  },
  {
   "cell_type": "markdown",
   "source": [
    "# Pipe Performance\n",
    "\n",
    "Pipe #1 Accuracy: 0.9815837937384899\n",
    "Pipe #2 Accuracy: 0.9392265193370166\n",
    "Pipe #3 Accuracy: 0.8379373848987108"
   ],
   "metadata": {
    "collapsed": false,
    "pycharm": {
     "name": "#%% md\n"
    }
   }
  },
  {
   "cell_type": "markdown",
   "source": [
    "## Import joblib and save Pipe #1"
   ],
   "metadata": {
    "collapsed": false,
    "pycharm": {
     "name": "#%% md\n"
    }
   }
  },
  {
   "cell_type": "code",
   "execution_count": 109,
   "outputs": [],
   "source": [
    "import joblib"
   ],
   "metadata": {
    "collapsed": false,
    "pycharm": {
     "name": "#%%\n"
    }
   }
  },
  {
   "cell_type": "code",
   "execution_count": 112,
   "outputs": [
    {
     "data": {
      "text/plain": "['sk_sentiment.joblib']"
     },
     "execution_count": 112,
     "metadata": {},
     "output_type": "execute_result"
    }
   ],
   "source": [
    "joblib.dump(pipe, 'sk_sentiment.joblib')"
   ],
   "metadata": {
    "collapsed": false,
    "pycharm": {
     "name": "#%%\n"
    }
   }
  },
  {
   "cell_type": "code",
   "execution_count": null,
   "outputs": [],
   "source": [],
   "metadata": {
    "collapsed": false,
    "pycharm": {
     "name": "#%%\n"
    }
   }
  }
 ],
 "metadata": {
  "kernelspec": {
   "display_name": "Python 3",
   "language": "python",
   "name": "python3"
  },
  "language_info": {
   "codemirror_mode": {
    "name": "ipython",
    "version": 2
   },
   "file_extension": ".py",
   "mimetype": "text/x-python",
   "name": "python",
   "nbconvert_exporter": "python",
   "pygments_lexer": "ipython2",
   "version": "2.7.6"
  }
 },
 "nbformat": 4,
 "nbformat_minor": 0
}